{
 "cells": [
  {
   "cell_type": "code",
   "execution_count": 24,
   "id": "f304f68f",
   "metadata": {},
   "outputs": [],
   "source": [
    "%matplotlib inline\n",
    "import pandas as pd\n",
    "import numpy as np\n",
    "import matplotlib.pyplot as plt"
   ]
  },
  {
   "cell_type": "code",
   "execution_count": 54,
   "id": "339a7e56",
   "metadata": {},
   "outputs": [],
   "source": [
    "incomes = np.random.normal(100.0, 20.0, 10000)"
   ]
  },
  {
   "cell_type": "code",
   "execution_count": 55,
   "id": "0c8f5dc7",
   "metadata": {},
   "outputs": [
    {
     "data": {
      "image/png": "[encoded data removed]",
      "text/plain": [
       "<Figure size 432x288 with 1 Axes>"
      ]
     },
     "metadata": {
      "needs_background": "light"
     },
     "output_type": "display_data"
    }
   ],
   "source": [
    "plt.hist(incomes, 50)\n",
    "plt.show()"
   ]
  },
  {
   "cell_type": "code",
   "execution_count": 27,
   "id": "e24984e6",
   "metadata": {},
   "outputs": [
    {
     "data": {
      "text/plain": [
       "100.21396258503047"
      ]
     },
     "execution_count": 27,
     "metadata": {},
     "output_type": "execute_result"
    }
   ],
   "source": [
    "np.mean(incomes)"
   ]
  },
  {
   "cell_type": "code",
   "execution_count": 28,
   "id": "beb24aa7",
   "metadata": {},
   "outputs": [
    {
     "data": {
      "text/plain": [
       "100.1168511724189"
      ]
     },
     "execution_count": 28,
     "metadata": {},
     "output_type": "execute_result"
    }
   ],
   "source": [
    "np.median(incomes)"
   ]
  },
  {
   "cell_type": "code",
   "execution_count": 29,
   "id": "ebe64374",
   "metadata": {},
   "outputs": [],
   "source": [
    "from scipy import stats"
   ]
  },
  {
   "cell_type": "code",
   "execution_count": 30,
   "id": "5fe2415f",
   "metadata": {},
   "outputs": [
    {
     "data": {
      "text/plain": [
       "ModeResult(mode=array([28.8982172]), count=array([1]))"
      ]
     },
     "execution_count": 30,
     "metadata": {},
     "output_type": "execute_result"
    }
   ],
   "source": [
    "stats.mode(incomes)"
   ]
  },
  {
   "cell_type": "code",
   "execution_count": 31,
   "id": "d27b52e6",
   "metadata": {},
   "outputs": [
    {
     "data": {
      "text/plain": [
       "array([376, 859, 612, 833, 614, 877, 506, 412, 335, 200, 459, 225, 281,\n",
       "       568, 206, 629, 840, 769, 379, 465, 373, 341, 577, 260, 849, 424,\n",
       "       666, 709, 303, 682, 417, 625, 806, 343, 462, 852, 255, 233, 864,\n",
       "       631, 293, 889, 606, 445, 807, 220, 520, 550, 252, 365, 283, 724,\n",
       "       887, 788, 594, 803, 689, 852, 504, 432, 739, 269, 406, 437, 419,\n",
       "       661, 830, 623, 246, 475, 717, 388, 367, 863, 491, 467, 188, 612,\n",
       "       689, 552, 345, 390, 215, 532, 501, 497, 348, 442, 665, 722, 764,\n",
       "       870, 397, 244, 462, 405, 226, 745, 656, 675, 861, 611, 343, 313,\n",
       "       739, 706, 693, 385, 403, 841, 309, 317, 594, 383, 843, 267, 213,\n",
       "       481, 414, 265, 758, 375, 873, 445, 878, 612, 577, 471, 808, 584,\n",
       "       445, 755, 616, 267, 599, 243, 499, 699, 415, 425, 763, 280, 748,\n",
       "       355, 482, 694, 334, 449, 826, 819, 669, 608, 193, 256, 393, 761,\n",
       "       182, 814, 863, 891, 261, 465, 898, 756, 608, 587, 567, 764, 594,\n",
       "       394, 880, 396, 555, 812, 462, 654, 362, 560, 708, 262, 253, 780,\n",
       "       751, 893, 830, 486, 786, 644, 874, 286, 608, 591, 713, 542, 477,\n",
       "       304, 495, 450, 397, 374])"
      ]
     },
     "execution_count": 31,
     "metadata": {},
     "output_type": "execute_result"
    }
   ],
   "source": [
    "incomess = np.random.randint(180, high=900, size=200)\n",
    "incomess"
   ]
  },
  {
   "cell_type": "code",
   "execution_count": 32,
   "id": "59207601",
   "metadata": {},
   "outputs": [],
   "source": [
    "from scipy import stats"
   ]
  },
  {
   "cell_type": "code",
   "execution_count": 33,
   "id": "f682f80b",
   "metadata": {},
   "outputs": [
    {
     "data": {
      "text/plain": [
       "ModeResult(mode=array([445]), count=array([3]))"
      ]
     },
     "execution_count": 33,
     "metadata": {},
     "output_type": "execute_result"
    }
   ],
   "source": [
    "stats.mode(incomess)"
   ]
  },
  {
   "cell_type": "code",
   "execution_count": 34,
   "id": "4925dfa8",
   "metadata": {},
   "outputs": [
    {
     "data": {
      "text/plain": [
       "20.031628306293424"
      ]
     },
     "execution_count": 34,
     "metadata": {},
     "output_type": "execute_result"
    }
   ],
   "source": [
    "incomes.std()"
   ]
  },
  {
   "cell_type": "code",
   "execution_count": 35,
   "id": "33da2c19",
   "metadata": {},
   "outputs": [
    {
     "data": {
      "text/plain": [
       "401.2661326014959"
      ]
     },
     "execution_count": 35,
     "metadata": {},
     "output_type": "execute_result"
    }
   ],
   "source": [
    "incomes.var()"
   ]
  },
  {
   "cell_type": "code",
   "execution_count": 36,
   "id": "8c8e586f",
   "metadata": {},
   "outputs": [
    {
     "data": {
      "text/plain": [
       "'/Users/michealaderibigbe/Downloads/DATA SCIENCE/DataScience-Python3'"
      ]
     },
     "execution_count": 36,
     "metadata": {},
     "output_type": "execute_result"
    }
   ],
   "source": [
    "pwd"
   ]
  },
  {
   "cell_type": "code",
   "execution_count": 64,
   "id": "f5b3bf78",
   "metadata": {},
   "outputs": [
    {
     "name": "stdout",
     "output_type": "stream",
     "text": [
      "mv: rename /Users/michealaderibigbe/Downloads/DATA SCIENCE/DataScience-Python3/Exercise on Mean, Median, Mode and Standard Deviation & Variance/ to /Users/michealaderibigbe/Exercise on Mean, Median, Mode and Standard Deviation & Variance/: No such file or directory\r\n"
     ]
    }
   ],
   "source": []
  },
  {
   "cell_type": "code",
   "execution_count": null,
   "id": "5741103b",
   "metadata": {},
   "outputs": [],
   "source": []
  }
 ],
 "metadata": {
  "kernelspec": {
   "display_name": "Python 3 (ipykernel)",
   "language": "python",
   "name": "python3"
  },
  "language_info": {
   "codemirror_mode": {
    "name": "ipython",
    "version": 3
   },
   "file_extension": ".py",
   "mimetype": "text/x-python",
   "name": "python",
   "nbconvert_exporter": "python",
   "pygments_lexer": "ipython3",
   "version": "3.9.7"
  }
 },
 "nbformat": 4,
 "nbformat_minor": 5
}
