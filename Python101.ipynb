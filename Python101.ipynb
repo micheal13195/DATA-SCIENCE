{
 "cells": [
  {
   "cell_type": "code",
   "execution_count": 46,
   "id": "92fb561f",
   "metadata": {},
   "outputs": [
    {
     "name": "stdout",
     "output_type": "stream",
     "text": [
      "1\n",
      "is odd\n",
      "All done\n",
      "\n",
      "\n",
      "2\n",
      "is even\n",
      "All done\n",
      "\n",
      "\n",
      "3\n",
      "is odd\n",
      "All done\n",
      "\n",
      "\n",
      "4\n",
      "is even\n",
      "All done\n",
      "\n",
      "\n",
      "5\n",
      "is odd\n",
      "All done\n",
      "\n",
      "\n",
      "6\n",
      "is even\n",
      "All done\n",
      "\n",
      "\n",
      "7\n",
      "is odd\n",
      "All done\n",
      "\n",
      "\n",
      "8\n",
      "is even\n",
      "All done\n",
      "\n",
      "\n",
      "9\n",
      "is odd\n",
      "All done\n",
      "\n",
      "\n"
     ]
    }
   ],
   "source": [
    "listofNumbers = [1, 2, 3, 4, 5, 6, 7, 8, 9]\n",
    "\n",
    "for number in listofNumbers:\n",
    "    print(number)\n",
    "    if (number % 2 == 0):\n",
    "        print(\"is even\")\n",
    "    else:\n",
    "        print(\"is odd\")\n",
    "    print(\"All done\")\n",
    "    print(\"\\n\")"
   ]
  },
  {
   "cell_type": "markdown",
   "id": "3fdd300e",
   "metadata": {},
   "source": [
    "## Importing modules of Python"
   ]
  },
  {
   "cell_type": "code",
   "execution_count": 47,
   "id": "0667b55b",
   "metadata": {},
   "outputs": [
    {
     "name": "stdout",
     "output_type": "stream",
     "text": [
      "[ 36.80481787  86.22978426  58.27341766  44.76393744  25.044568\n",
      "  99.1249885  -16.94991981  16.76179991  68.0199844   41.95112446\n",
      "  21.18832383  35.74920858  21.89197137 -33.4610638   27.62448907\n",
      "  70.40162244  -9.86241519  15.23022746   9.16996944   5.97717026\n",
      "   4.17213448  -0.77656354]\n"
     ]
    }
   ],
   "source": [
    "import numpy as np\n",
    "\n",
    "A = np.random.normal(25.2, 30.2, 22,)\n",
    "print(A)"
   ]
  },
  {
   "cell_type": "markdown",
   "id": "c2c2a238",
   "metadata": {},
   "source": [
    "## Function lot print length of a function"
   ]
  },
  {
   "cell_type": "code",
   "execution_count": 48,
   "id": "89410b87",
   "metadata": {},
   "outputs": [
    {
     "name": "stdout",
     "output_type": "stream",
     "text": [
      "8\n"
     ]
    }
   ],
   "source": [
    "x = [1, 2, 3, 4, 5, 6, 7, 8,]\n",
    "print(len(x))"
   ]
  },
  {
   "cell_type": "code",
   "execution_count": 49,
   "id": "325cafa9",
   "metadata": {},
   "outputs": [
    {
     "data": {
      "text/plain": [
       "[1, 2, 3]"
      ]
     },
     "execution_count": 49,
     "metadata": {},
     "output_type": "execute_result"
    }
   ],
   "source": [
    "x[:3]"
   ]
  },
  {
   "cell_type": "code",
   "execution_count": 50,
   "id": "b311a5b1",
   "metadata": {},
   "outputs": [
    {
     "data": {
      "text/plain": [
       "[4, 5, 6, 7, 8]"
      ]
     },
     "execution_count": 50,
     "metadata": {},
     "output_type": "execute_result"
    }
   ],
   "source": [
    "x[3:]"
   ]
  },
  {
   "cell_type": "code",
   "execution_count": 51,
   "id": "ec44afee",
   "metadata": {},
   "outputs": [
    {
     "data": {
      "text/plain": [
       "4"
      ]
     },
     "execution_count": 51,
     "metadata": {},
     "output_type": "execute_result"
    }
   ],
   "source": [
    "x[3]"
   ]
  },
  {
   "cell_type": "code",
   "execution_count": 52,
   "id": "13bc7a67",
   "metadata": {},
   "outputs": [
    {
     "data": {
      "text/plain": [
       "[1, 2]"
      ]
     },
     "execution_count": 52,
     "metadata": {},
     "output_type": "execute_result"
    }
   ],
   "source": [
    "x[:2]"
   ]
  },
  {
   "cell_type": "code",
   "execution_count": 53,
   "id": "8120eead",
   "metadata": {},
   "outputs": [
    {
     "data": {
      "text/plain": [
       "[1, 2, 3, 4, 5, 6]"
      ]
     },
     "execution_count": 53,
     "metadata": {},
     "output_type": "execute_result"
    }
   ],
   "source": [
    "x[:-2]"
   ]
  },
  {
   "cell_type": "code",
   "execution_count": 54,
   "id": "3776ccae",
   "metadata": {},
   "outputs": [],
   "source": [
    "x.extend([0,5])"
   ]
  },
  {
   "cell_type": "code",
   "execution_count": 55,
   "id": "6423916a",
   "metadata": {},
   "outputs": [
    {
     "data": {
      "text/plain": [
       "[1, 2, 3, 4, 5, 6, 7, 8, 0, 5]"
      ]
     },
     "execution_count": 55,
     "metadata": {},
     "output_type": "execute_result"
    }
   ],
   "source": [
    "x"
   ]
  },
  {
   "cell_type": "code",
   "execution_count": 56,
   "id": "2046b898",
   "metadata": {
    "scrolled": true
   },
   "outputs": [
    {
     "name": "stdout",
     "output_type": "stream",
     "text": [
      "15\n"
     ]
    }
   ],
   "source": [
    "y = [1, 3, 5, 7, 9]\n",
    "listoftables = [x, y]\n",
    "print(len(x+y))"
   ]
  },
  {
   "cell_type": "code",
   "execution_count": 18,
   "id": "5a391d54",
   "metadata": {},
   "outputs": [
    {
     "data": {
      "text/plain": [
       "[[1, 2, 3, 4, 5, 6, 7, 8, 0, 5], [1, 3, 5, 7, 9]]"
      ]
     },
     "execution_count": 18,
     "metadata": {},
     "output_type": "execute_result"
    }
   ],
   "source": [
    "listoftables"
   ]
  },
  {
   "cell_type": "code",
   "execution_count": 19,
   "id": "53332769",
   "metadata": {},
   "outputs": [],
   "source": [
    "x.append(0)"
   ]
  },
  {
   "cell_type": "code",
   "execution_count": 20,
   "id": "2620e62e",
   "metadata": {},
   "outputs": [
    {
     "data": {
      "text/plain": [
       "[1, 2, 3, 4, 5, 6, 7, 8, 0, 5, 0]"
      ]
     },
     "execution_count": 20,
     "metadata": {},
     "output_type": "execute_result"
    }
   ],
   "source": [
    "x"
   ]
  },
  {
   "cell_type": "markdown",
   "id": "e5f1060e",
   "metadata": {},
   "source": [
    "### Tuple are immutable lists"
   ]
  },
  {
   "cell_type": "code",
   "execution_count": 23,
   "id": "b00ae670",
   "metadata": {},
   "outputs": [
    {
     "data": {
      "text/plain": [
       "4"
      ]
     },
     "execution_count": 23,
     "metadata": {},
     "output_type": "execute_result"
    }
   ],
   "source": [
    "j = (2,3,4,6)\n",
    "len(j)"
   ]
  },
  {
   "cell_type": "code",
   "execution_count": 76,
   "id": "869cb9b0",
   "metadata": {},
   "outputs": [],
   "source": [
    "p = (7,8,9,0)\n",
    "jp = (j,p)"
   ]
  },
  {
   "cell_type": "code",
   "execution_count": 77,
   "id": "3387f42d",
   "metadata": {},
   "outputs": [
    {
     "data": {
      "text/plain": [
       "((2, 3, 4, 6), (7, 8, 9, 0))"
      ]
     },
     "execution_count": 77,
     "metadata": {},
     "output_type": "execute_result"
    }
   ],
   "source": [
    "jp"
   ]
  },
  {
   "cell_type": "code",
   "execution_count": 24,
   "id": "52a14da7",
   "metadata": {},
   "outputs": [],
   "source": [
    "(age, income, name) = \"35/75000/titi\".split('/')"
   ]
  },
  {
   "cell_type": "code",
   "execution_count": 25,
   "id": "940eb735",
   "metadata": {},
   "outputs": [
    {
     "name": "stdout",
     "output_type": "stream",
     "text": [
      "35\n"
     ]
    }
   ],
   "source": [
    "print(age)"
   ]
  },
  {
   "cell_type": "code",
   "execution_count": 26,
   "id": "9139f19d",
   "metadata": {},
   "outputs": [
    {
     "name": "stdout",
     "output_type": "stream",
     "text": [
      "titi\n"
     ]
    }
   ],
   "source": [
    "print(name)"
   ]
  },
  {
   "cell_type": "code",
   "execution_count": 90,
   "id": "d10748a8",
   "metadata": {},
   "outputs": [
    {
     "data": {
      "text/plain": [
       "'75000'"
      ]
     },
     "execution_count": 90,
     "metadata": {},
     "output_type": "execute_result"
    }
   ],
   "source": [
    "income"
   ]
  },
  {
   "cell_type": "markdown",
   "id": "a1c49a45",
   "metadata": {},
   "source": [
    "## Python Dictionaries"
   ]
  },
  {
   "cell_type": "code",
   "execution_count": 97,
   "id": "5a0fc15d",
   "metadata": {},
   "outputs": [],
   "source": [
    "# Dictionaries are like a map or hash table in other languages\n",
    "captains = {}\n",
    "captains[\"Enterprise\"] = \"kirk\"\n",
    "captains[\"Enterprise D\"] = \"sisko\"\n",
    "captains[\"Mayweather\"] = \"Boxer\"\n",
    "captains[\"October_21\"] = \"Halloween 👻\""
   ]
  },
  {
   "cell_type": "code",
   "execution_count": 98,
   "id": "5778c8e9",
   "metadata": {},
   "outputs": [
    {
     "name": "stdout",
     "output_type": "stream",
     "text": [
      "Boxer\n"
     ]
    }
   ],
   "source": [
    "print(captains[\"Mayweather\"])"
   ]
  },
  {
   "cell_type": "code",
   "execution_count": 100,
   "id": "dd60e29b",
   "metadata": {},
   "outputs": [
    {
     "name": "stdout",
     "output_type": "stream",
     "text": [
      "Halloween 👻\n"
     ]
    }
   ],
   "source": [
    "print(captains[\"October_21\"])"
   ]
  },
  {
   "cell_type": "code",
   "execution_count": 103,
   "id": "448e6195",
   "metadata": {},
   "outputs": [
    {
     "name": "stdout",
     "output_type": "stream",
     "text": [
      "Boxer\n"
     ]
    }
   ],
   "source": [
    "print(captains.get(\"Mayweather\"))"
   ]
  },
  {
   "cell_type": "code",
   "execution_count": 104,
   "id": "123e531b",
   "metadata": {},
   "outputs": [
    {
     "name": "stdout",
     "output_type": "stream",
     "text": [
      "None\n"
     ]
    }
   ],
   "source": [
    "print(captains.get(\"Anthony\"))"
   ]
  },
  {
   "cell_type": "code",
   "execution_count": 110,
   "id": "a8cb8ecb",
   "metadata": {},
   "outputs": [
    {
     "name": "stdout",
     "output_type": "stream",
     "text": [
      "Enterprise: kirk\n",
      "Enterprise D: sisko\n",
      "Mayweather: Boxer\n",
      "October_21: Halloween 👻\n"
     ]
    }
   ],
   "source": [
    "for ships in captains:\n",
    "    print(ships + \": \" + captains[ships])"
   ]
  },
  {
   "cell_type": "code",
   "execution_count": 112,
   "id": "99a49abb",
   "metadata": {},
   "outputs": [
    {
     "name": "stdout",
     "output_type": "stream",
     "text": [
      "None\n"
     ]
    }
   ],
   "source": [
    "print(captains.get(\"ships\"))"
   ]
  },
  {
   "cell_type": "markdown",
   "id": "bf7a09a8",
   "metadata": {},
   "source": [
    "### Functions"
   ]
  },
  {
   "cell_type": "code",
   "execution_count": 42,
   "id": "aeaea5ca",
   "metadata": {},
   "outputs": [
    {
     "data": {
      "text/plain": [
       "25"
      ]
     },
     "execution_count": 42,
     "metadata": {},
     "output_type": "execute_result"
    }
   ],
   "source": [
    "def squareIt(x):\n",
    "    return x * x\n",
    "\n",
    "squareIt(5)"
   ]
  },
  {
   "cell_type": "code",
   "execution_count": 45,
   "id": "55b94c9a",
   "metadata": {},
   "outputs": [
    {
     "name": "stdout",
     "output_type": "stream",
     "text": [
      "36\n"
     ]
    }
   ],
   "source": [
    "def Dosomething(f, x):\n",
    "    return f(x)\n",
    "\n",
    "print(Dosomething(squareIt, 6))"
   ]
  },
  {
   "cell_type": "markdown",
   "id": "f0d3d17b",
   "metadata": {},
   "source": [
    "## Boolean Expressions"
   ]
  },
  {
   "cell_type": "code",
   "execution_count": 1,
   "id": "6320a49a",
   "metadata": {},
   "outputs": [
    {
     "name": "stdout",
     "output_type": "stream",
     "text": [
      "False\n"
     ]
    }
   ],
   "source": [
    "print(1==4)"
   ]
  },
  {
   "cell_type": "code",
   "execution_count": 2,
   "id": "6b405c47",
   "metadata": {},
   "outputs": [
    {
     "name": "stdout",
     "output_type": "stream",
     "text": [
      "True\n"
     ]
    }
   ],
   "source": [
    "print(4==2+2)"
   ]
  },
  {
   "cell_type": "code",
   "execution_count": 4,
   "id": "f54023b6",
   "metadata": {},
   "outputs": [
    {
     "name": "stdout",
     "output_type": "stream",
     "text": [
      "False\n"
     ]
    },
    {
     "name": "stderr",
     "output_type": "stream",
     "text": [
      "<>:1: SyntaxWarning: \"is\" with a literal. Did you mean \"==\"?\n",
      "<>:1: SyntaxWarning: \"is\" with a literal. Did you mean \"==\"?\n",
      "/var/folders/2x/mr1_3w1d69d9jmbp_btqg_tm0000gn/T/ipykernel_4738/1958104170.py:1: SyntaxWarning: \"is\" with a literal. Did you mean \"==\"?\n",
      "  print(2 is 6)\n"
     ]
    }
   ],
   "source": [
    "print(2 is 6)"
   ]
  },
  {
   "cell_type": "code",
   "execution_count": 6,
   "id": "e4346cf9",
   "metadata": {},
   "outputs": [
    {
     "name": "stdout",
     "output_type": "stream",
     "text": [
      "Good\n"
     ]
    }
   ],
   "source": [
    "if (1 == 3):\n",
    "    print(\"The system is faulty\")\n",
    "elif (1 > 3):\n",
    "    print(\"fake\")\n",
    "elif (1 < 3):\n",
    "    print(\"Good\")"
   ]
  },
  {
   "cell_type": "markdown",
   "id": "6b93077d",
   "metadata": {},
   "source": [
    "## Looping"
   ]
  },
  {
   "cell_type": "code",
   "execution_count": 8,
   "id": "653ebe83",
   "metadata": {},
   "outputs": [
    {
     "name": "stdout",
     "output_type": "stream",
     "text": [
      "0\n",
      "1\n",
      "2\n",
      "3\n",
      "4\n",
      "5\n",
      "6\n",
      "7\n",
      "8\n",
      "9\n",
      "10\n",
      "11\n",
      "12\n",
      "13\n",
      "14\n"
     ]
    }
   ],
   "source": [
    "for x in range (15):\n",
    "    print(x)"
   ]
  },
  {
   "cell_type": "code",
   "execution_count": 13,
   "id": "ba62b1b4",
   "metadata": {},
   "outputs": [
    {
     "name": "stdout",
     "output_type": "stream",
     "text": [
      "0\n",
      "2\n",
      "3\n",
      "4\n",
      "5\n"
     ]
    }
   ],
   "source": [
    "for x in range (10):\n",
    "    if (x == 1):\n",
    "        continue\n",
    "    elif (x > 5):\n",
    "            break\n",
    "    print(x)"
   ]
  },
  {
   "cell_type": "code",
   "execution_count": null,
   "id": "f6636dbf",
   "metadata": {},
   "outputs": [],
   "source": [
    "x = 0\n",
    "while x < 10:\n",
    "    print(x)\n",
    "    x += 1"
   ]
  },
  {
   "cell_type": "code",
   "execution_count": null,
   "id": "9d8c8b40",
   "metadata": {},
   "outputs": [],
   "source": [
    "pwd"
   ]
  },
  {
   "cell_type": "code",
   "execution_count": null,
   "id": "6312edd4",
   "metadata": {},
   "outputs": [],
   "source": []
  }
 ],
 "metadata": {
  "kernelspec": {
   "display_name": "Python 3 (ipykernel)",
   "language": "python",
   "name": "python3"
  },
  "language_info": {
   "codemirror_mode": {
    "name": "ipython",
    "version": 3
   },
   "file_extension": ".py",
   "mimetype": "text/x-python",
   "name": "python",
   "nbconvert_exporter": "python",
   "pygments_lexer": "ipython3",
   "version": "3.9.7"
  }
 },
 "nbformat": 4,
 "nbformat_minor": 5
}
